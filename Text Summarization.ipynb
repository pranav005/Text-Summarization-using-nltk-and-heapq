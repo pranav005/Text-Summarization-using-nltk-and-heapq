{
 "cells": [
  {
   "cell_type": "code",
   "execution_count": 4,
   "metadata": {},
   "outputs": [],
   "source": [
    "import re\n",
    "f=open(\"test.txt\",encoding=\"utf8\")\n",
    "article_text=f.read()"
   ]
  },
  {
   "cell_type": "code",
   "execution_count": 6,
   "metadata": {},
   "outputs": [],
   "source": [
    "# Removing Square Brackets and Extra Spaces\n",
    "article_text = re.sub(r'.\\[[0-9]*\\]', ' ', article_text)\n",
    "article_text = re.sub(r'\\s+', ' ', article_text)"
   ]
  },
  {
   "cell_type": "code",
   "execution_count": 7,
   "metadata": {},
   "outputs": [
    {
     "name": "stdout",
     "output_type": "stream",
     "text": [
      "Mohandas Karamchand Gandhi (/ˈɡɑːndi, ˈɡændi/ 2 October 1869 – 30 January 1948), also known as Mahatma Gandhi, was an Indian lawyer anti-colonial nationalist and political ethicist who employed nonviolent resistance to lead the successful campaign for India's independence from British rule and in turn inspired movements for civil rights and freedom across the world. The honorific Mahātmā (Sanskrit: \"great-souled\", \"venerable\"), first applied to him in 1914 in South Africa, is now used throughout the world [8] Born and raised in a Hindu family in coastal Gujarat, western India, Gandhi trained in law at the Inner Temple, London, and was called to the bar at age 22 in June 1891. After two uncertain years in India, where he was unable to start a successful law practice, he moved to South Africa in 1893 to represent an Indian merchant in a lawsuit. He went on to stay for 21 years. It was in South Africa that Gandhi raised a family, and first employed nonviolent resistance in a campaign for civil rights. In 1915, aged 45, he returned to India. He set about organising peasants, farmers, and urban labourers to protest against excessive land-tax and discrimination. Assuming leadership of the Indian National Congress in 1921, Gandhi led nationwide campaigns for easing poverty, expanding women's rights, building religious and ethnic amity, ending untouchability, and above all for achieving Swaraj or self-rule The same year Gandhi adopted the Indian loincloth, or short dhoti and, in the winter, a shawl, both woven with yarn hand-spun on a traditional Indian spinning wheel, or charkha, as a mark of identification with India's rural poor. Thereafter, he lived modestly in a self-sufficient residential community, ate simple vegetarian food, and undertook long fasts as a means of self-purification and political protest. Bringing anti-colonial nationalism to the common Indians, Gandhi led them in challenging the British-imposed salt tax with the 400 km (250 mi) Dandi Salt March in 1930, and later in calling for the British to Quit India in 1942. He was imprisoned for many years, upon many occasions, in both South Africa and India. Gandhi's vision of an independent India based on religious pluralism was challenged in the early 1940s by a new Muslim nationalism which was demanding a separate Muslim homeland carved out of India In August 1947, Britain granted independence, but the British Indian Empir was partitioned into two dominions, a Hindu-majority India and Muslim-majority Pakistan As many displaced Hindus, Muslims, and Sikhs made their way to their new lands, religious violence broke out, especially in the Punjab and Bengal. Eschewing the official celebration of independence in Delhi, Gandhi visited the affected areas, attempting to provide solace. In the months following, he undertook several fasts unto death to stop religious violence. The last of these, undertaken on 12 January 1948 when he was 78 also had the indirect goal of pressuring India to pay out some cash assets owed to Pakistan Some Indians thought Gandhi was too accommodating [13] Among them was Nathuram Godse, a Hindu nationalist, who assassinated Gandhi on 30 January 1948 by firing three bullets into his chest Gandhi's birthday, 2 October, is commemorated in India as Gandhi Jayanti, a national holiday, and worldwide as the International Day of Nonviolence. Gandhi is commonly, though not formally, considered the Father of the Nation in India [15] and was commonly called Bapu\n"
     ]
    }
   ],
   "source": [
    "print(article_text)"
   ]
  },
  {
   "cell_type": "code",
   "execution_count": 8,
   "metadata": {},
   "outputs": [],
   "source": [
    "formatted_article_text = re.sub('[^a-zA-Z]', ' ', article_text )\n",
    "formatted_article_text = re.sub(r'\\s+', ' ', formatted_article_text)"
   ]
  },
  {
   "cell_type": "code",
   "execution_count": 9,
   "metadata": {},
   "outputs": [
    {
     "name": "stdout",
     "output_type": "stream",
     "text": [
      "Mohandas Karamchand Gandhi ndi ndi October January also known as Mahatma Gandhi was an Indian lawyer anti colonial nationalist and political ethicist who employed nonviolent resistance to lead the successful campaign for India s independence from British rule and in turn inspired movements for civil rights and freedom across the world The honorific Mah tm Sanskrit great souled venerable first applied to him in in South Africa is now used throughout the world Born and raised in a Hindu family in coastal Gujarat western India Gandhi trained in law at the Inner Temple London and was called to the bar at age in June After two uncertain years in India where he was unable to start a successful law practice he moved to South Africa in to represent an Indian merchant in a lawsuit He went on to stay for years It was in South Africa that Gandhi raised a family and first employed nonviolent resistance in a campaign for civil rights In aged he returned to India He set about organising peasants farmers and urban labourers to protest against excessive land tax and discrimination Assuming leadership of the Indian National Congress in Gandhi led nationwide campaigns for easing poverty expanding women s rights building religious and ethnic amity ending untouchability and above all for achieving Swaraj or self rule The same year Gandhi adopted the Indian loincloth or short dhoti and in the winter a shawl both woven with yarn hand spun on a traditional Indian spinning wheel or charkha as a mark of identification with India s rural poor Thereafter he lived modestly in a self sufficient residential community ate simple vegetarian food and undertook long fasts as a means of self purification and political protest Bringing anti colonial nationalism to the common Indians Gandhi led them in challenging the British imposed salt tax with the km mi Dandi Salt March in and later in calling for the British to Quit India in He was imprisoned for many years upon many occasions in both South Africa and India Gandhi s vision of an independent India based on religious pluralism was challenged in the early s by a new Muslim nationalism which was demanding a separate Muslim homeland carved out of India In August Britain granted independence but the British Indian Empir was partitioned into two dominions a Hindu majority India and Muslim majority Pakistan As many displaced Hindus Muslims and Sikhs made their way to their new lands religious violence broke out especially in the Punjab and Bengal Eschewing the official celebration of independence in Delhi Gandhi visited the affected areas attempting to provide solace In the months following he undertook several fasts unto death to stop religious violence The last of these undertaken on January when he was also had the indirect goal of pressuring India to pay out some cash assets owed to Pakistan Some Indians thought Gandhi was too accommodating Among them was Nathuram Godse a Hindu nationalist who assassinated Gandhi on January by firing three bullets into his chest Gandhi s birthday October is commemorated in India as Gandhi Jayanti a national holiday and worldwide as the International Day of Nonviolence Gandhi is commonly though not formally considered the Father of the Nation in India and was commonly called Bapu\n"
     ]
    }
   ],
   "source": [
    "print(formatted_article_text)"
   ]
  },
  {
   "cell_type": "code",
   "execution_count": 10,
   "metadata": {},
   "outputs": [],
   "source": [
    "import nltk\n",
    "sentence_list = nltk.sent_tokenize(article_text)"
   ]
  },
  {
   "cell_type": "code",
   "execution_count": 11,
   "metadata": {},
   "outputs": [],
   "source": [
    "stopwords = nltk.corpus.stopwords.words('english')\n",
    "\n",
    "word_frequencies = {}\n",
    "for word in nltk.word_tokenize(formatted_article_text):\n",
    "    if word not in stopwords:\n",
    "        if word not in word_frequencies.keys():\n",
    "            word_frequencies[word] = 1\n",
    "        else:\n",
    "            word_frequencies[word] += 1"
   ]
  },
  {
   "cell_type": "code",
   "execution_count": 12,
   "metadata": {},
   "outputs": [],
   "source": [
    "maximum_frequncy = max(word_frequencies.values())\n",
    "\n",
    "for word in word_frequencies.keys():\n",
    "    word_frequencies[word] = (word_frequencies[word]/maximum_frequncy)"
   ]
  },
  {
   "cell_type": "code",
   "execution_count": 13,
   "metadata": {},
   "outputs": [],
   "source": [
    "sentence_scores = {}\n",
    "for sent in sentence_list:\n",
    "    for word in nltk.word_tokenize(sent.lower()):\n",
    "        if word in word_frequencies.keys():\n",
    "            if len(sent.split(' ')) < 30:\n",
    "                if sent not in sentence_scores.keys():\n",
    "                    sentence_scores[sent] = word_frequencies[word]\n",
    "                else:\n",
    "                    sentence_scores[sent] += word_frequencies[word]"
   ]
  },
  {
   "cell_type": "code",
   "execution_count": 14,
   "metadata": {},
   "outputs": [
    {
     "name": "stdout",
     "output_type": "stream",
     "text": [
      "It was in South Africa that Gandhi raised a family, and first employed nonviolent resistance in a campaign for civil rights. Thereafter, he lived modestly in a self-sufficient residential community, ate simple vegetarian food, and undertook long fasts as a means of self-purification and political protest. In the months following, he undertook several fasts unto death to stop religious violence. He was imprisoned for many years, upon many occasions, in both South Africa and India.\n"
     ]
    }
   ],
   "source": [
    "import heapq\n",
    "summary_sentences = heapq.nlargest(4, sentence_scores, key=sentence_scores.get)\n",
    "\n",
    "summary = ' '.join(summary_sentences)\n",
    "print(summary)"
   ]
  },
  {
   "cell_type": "code",
   "execution_count": null,
   "metadata": {},
   "outputs": [],
   "source": []
  }
 ],
 "metadata": {
  "kernelspec": {
   "display_name": "Python 3",
   "language": "python",
   "name": "python3"
  },
  "language_info": {
   "codemirror_mode": {
    "name": "ipython",
    "version": 3
   },
   "file_extension": ".py",
   "mimetype": "text/x-python",
   "name": "python",
   "nbconvert_exporter": "python",
   "pygments_lexer": "ipython3",
   "version": "3.7.4"
  }
 },
 "nbformat": 4,
 "nbformat_minor": 2
}
